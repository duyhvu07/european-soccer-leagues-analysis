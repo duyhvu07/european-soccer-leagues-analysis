{
 "cells": [
  {
   "cell_type": "markdown",
   "metadata": {},
   "source": [
    "# In-game Metrics \n",
    "\n",
    "## 1. Data Scrap\n",
    "This code scrap teams statistic data from FoxSoccer. The scraped data will be used to calculate in-game metrics, which will be visualized."
   ]
  },
  {
   "cell_type": "code",
   "execution_count": 1,
   "metadata": {
    "collapsed": true
   },
   "outputs": [],
   "source": [
    "import numpy as np\n",
    "import urllib2\n",
    "from bs4 import BeautifulSoup\n",
    "import pandas as pd\n",
    "import sys\n",
    "\n",
    "\n",
    "#plt.rcParams['backend'] = \"Qt4Agg\"\n",
    "#set unicode for error 'UnicodeEncodeError\"\n",
    "reload(sys)\n",
    "sys.setdefaultencoding('utf-8')\n",
    "\n",
    "#create User-Agent (solve 404 error)\n",
    "opener = urllib2.build_opener()\n",
    "opener.addheaders = [('User-agent', 'Mozilla/5.0')]\n"
   ]
  },
  {
   "cell_type": "code",
   "execution_count": 2,
   "metadata": {
    "collapsed": true
   },
   "outputs": [],
   "source": [
    "#compile urls into a list \n",
    "url_list = [['http://www.foxsports.com/soccer/team-stats?competition=1&season=20160&category=standard&sort=1',\n",
    "           'http://www.foxsports.com/soccer/team-stats?competition=1&season=20150&category=standard&sort=1',\n",
    "           'http://www.foxsports.com/soccer/team-stats?competition=1&season=20140&category=standard&sort=1',\n",
    "           'http://www.foxsports.com/soccer/team-stats?competition=1&season=20130&category=standard&sort=1'],\n",
    "            ['http://www.foxsports.com/soccer/team-stats?competition=2&season=20160&category=standard&sort=1',\n",
    "           'http://www.foxsports.com/soccer/team-stats?competition=2&season=20150&category=standard&sort=1',\n",
    "           'http://www.foxsports.com/soccer/team-stats?competition=2&season=20140&category=standard&sort=1',\n",
    "           'http://www.foxsports.com/soccer/team-stats?competition=2&season=20130&category=standard&sort=1'],\n",
    "            ['http://www.foxsports.com/soccer/team-stats?competition=3&season=20160&category=standard&sort=1',\n",
    "           'http://www.foxsports.com/soccer/team-stats?competition=3&season=20150&category=standard&sort=1',\n",
    "           'http://www.foxsports.com/soccer/team-stats?competition=3&season=20140&category=standard&sort=1',\n",
    "           'http://www.foxsports.com/soccer/team-stats?competition=3&season=20130&category=standard&sort=1'],\n",
    "            ['http://www.foxsports.com/soccer/team-stats?competition=4&season=20160&category=standard&sort=1',\n",
    "           'http://www.foxsports.com/soccer/team-stats?competition=4&season=20150&category=standard&sort=1',\n",
    "           'http://www.foxsports.com/soccer/team-stats?competition=4&season=20140&category=standard&sort=1',\n",
    "           'http://www.foxsports.com/soccer/team-stats?competition=4&season=20130&category=standard&sort=1']]\n",
    "\n"
   ]
  },
  {
   "cell_type": "code",
   "execution_count": 3,
   "metadata": {},
   "outputs": [
    {
     "data": {
      "text/plain": [
       "[u'STANDARD',\n",
       " u'GP',\n",
       " u'GF',\n",
       " u'A',\n",
       " u'SOG',\n",
       " u'S',\n",
       " u'HG',\n",
       " u'KG',\n",
       " u'YC',\n",
       " u'RC',\n",
       " u'F',\n",
       " u'OFF',\n",
       " 'SEASON',\n",
       " 'LEAGUE']"
      ]
     },
     "execution_count": 3,
     "metadata": {},
     "output_type": "execute_result"
    }
   ],
   "source": [
    "#inputing url for scraping\n",
    "url_header = opener.open('http://www.foxsports.com/soccer/team-stats?competition=1&season=20160&category=standard&sort=1')\n",
    "\n",
    "#parse url into soup\n",
    "soup = BeautifulSoup(url_header, \"html.parser\")\n",
    "\n",
    "\n",
    "#find table\n",
    "table = soup.find(\"table\", attrs = {'class' : 'wisbb_standardTable'})\n",
    "\n",
    "\n",
    "#find headers\n",
    "table_rows = table.findAll('th')\n",
    "table_headers =[th.text for th in table_rows]\n",
    "\n",
    "#remove spacing symbols\n",
    "table_headers = [headers.replace('\\r\\n','') for headers in table_headers]\n",
    "table_headers = [headers.replace('\\t','') for headers in table_headers]\n",
    "\n",
    "#adding \"SEASON\" and \"LEAGUE\" columns into table header\n",
    "table_headers.append('SEASON')\n",
    "table_headers.append('LEAGUE')\n",
    "\n",
    "table_headers\n",
    "\n"
   ]
  },
  {
   "cell_type": "code",
   "execution_count": 4,
   "metadata": {
    "collapsed": true
   },
   "outputs": [],
   "source": [
    "#compile urls into a list \n",
    "url_list = [['http://www.foxsports.com/soccer/team-stats?competition=1&season=20160&category=standard&sort=1',\n",
    "           'http://www.foxsports.com/soccer/team-stats?competition=1&season=20150&category=standard&sort=1',\n",
    "           'http://www.foxsports.com/soccer/team-stats?competition=1&season=20140&category=standard&sort=1',\n",
    "           'http://www.foxsports.com/soccer/team-stats?competition=1&season=20130&category=standard&sort=1'],\n",
    "            ['http://www.foxsports.com/soccer/team-stats?competition=2&season=20160&category=standard&sort=1',\n",
    "           'http://www.foxsports.com/soccer/team-stats?competition=2&season=20150&category=standard&sort=1',\n",
    "           'http://www.foxsports.com/soccer/team-stats?competition=2&season=20140&category=standard&sort=1',\n",
    "           'http://www.foxsports.com/soccer/team-stats?competition=2&season=20130&category=standard&sort=1'],\n",
    "            ['http://www.foxsports.com/soccer/team-stats?competition=3&season=20160&category=standard&sort=1',\n",
    "           'http://www.foxsports.com/soccer/team-stats?competition=3&season=20150&category=standard&sort=1',\n",
    "           'http://www.foxsports.com/soccer/team-stats?competition=3&season=20140&category=standard&sort=1',\n",
    "           'http://www.foxsports.com/soccer/team-stats?competition=3&season=20130&category=standard&sort=1'],\n",
    "            ['http://www.foxsports.com/soccer/team-stats?competition=4&season=20160&category=standard&sort=1',\n",
    "           'http://www.foxsports.com/soccer/team-stats?competition=4&season=20150&category=standard&sort=1',\n",
    "           'http://www.foxsports.com/soccer/team-stats?competition=4&season=20140&category=standard&sort=1',\n",
    "           'http://www.foxsports.com/soccer/team-stats?competition=4&season=20130&category=standard&sort=1']]\n",
    "\n"
   ]
  },
  {
   "cell_type": "code",
   "execution_count": 5,
   "metadata": {},
   "outputs": [
    {
     "data": {
      "text/html": [
       "<div>\n",
       "<style>\n",
       "    .dataframe thead tr:only-child th {\n",
       "        text-align: right;\n",
       "    }\n",
       "\n",
       "    .dataframe thead th {\n",
       "        text-align: left;\n",
       "    }\n",
       "\n",
       "    .dataframe tbody tr th {\n",
       "        vertical-align: top;\n",
       "    }\n",
       "</style>\n",
       "<table border=\"1\" class=\"dataframe\">\n",
       "  <thead>\n",
       "    <tr style=\"text-align: right;\">\n",
       "      <th></th>\n",
       "      <th>STANDARD</th>\n",
       "      <th>GP</th>\n",
       "      <th>GF</th>\n",
       "      <th>A</th>\n",
       "      <th>SOG</th>\n",
       "      <th>S</th>\n",
       "      <th>HG</th>\n",
       "      <th>KG</th>\n",
       "      <th>YC</th>\n",
       "      <th>RC</th>\n",
       "      <th>F</th>\n",
       "      <th>OFF</th>\n",
       "      <th>SEASON</th>\n",
       "      <th>LEAGUE</th>\n",
       "    </tr>\n",
       "  </thead>\n",
       "  <tbody>\n",
       "    <tr>\n",
       "      <th>0</th>\n",
       "      <td>Tottenham Hotspur</td>\n",
       "      <td>38</td>\n",
       "      <td>86</td>\n",
       "      <td>59</td>\n",
       "      <td>257</td>\n",
       "      <td>669</td>\n",
       "      <td>10</td>\n",
       "      <td>74</td>\n",
       "      <td>62</td>\n",
       "      <td>0</td>\n",
       "      <td>432</td>\n",
       "      <td>74</td>\n",
       "      <td>2016</td>\n",
       "      <td>Premier League</td>\n",
       "    </tr>\n",
       "    <tr>\n",
       "      <th>1</th>\n",
       "      <td>Chelsea</td>\n",
       "      <td>38</td>\n",
       "      <td>85</td>\n",
       "      <td>57</td>\n",
       "      <td>205</td>\n",
       "      <td>579</td>\n",
       "      <td>9</td>\n",
       "      <td>74</td>\n",
       "      <td>72</td>\n",
       "      <td>0</td>\n",
       "      <td>395</td>\n",
       "      <td>64</td>\n",
       "      <td>2016</td>\n",
       "      <td>Premier League</td>\n",
       "    </tr>\n",
       "    <tr>\n",
       "      <th>2</th>\n",
       "      <td>Manchester City</td>\n",
       "      <td>38</td>\n",
       "      <td>80</td>\n",
       "      <td>52</td>\n",
       "      <td>215</td>\n",
       "      <td>631</td>\n",
       "      <td>6</td>\n",
       "      <td>69</td>\n",
       "      <td>71</td>\n",
       "      <td>4</td>\n",
       "      <td>395</td>\n",
       "      <td>89</td>\n",
       "      <td>2016</td>\n",
       "      <td>Premier League</td>\n",
       "    </tr>\n",
       "    <tr>\n",
       "      <th>3</th>\n",
       "      <td>Liverpool</td>\n",
       "      <td>38</td>\n",
       "      <td>78</td>\n",
       "      <td>56</td>\n",
       "      <td>236</td>\n",
       "      <td>639</td>\n",
       "      <td>11</td>\n",
       "      <td>66</td>\n",
       "      <td>54</td>\n",
       "      <td>0</td>\n",
       "      <td>396</td>\n",
       "      <td>77</td>\n",
       "      <td>2016</td>\n",
       "      <td>Premier League</td>\n",
       "    </tr>\n",
       "    <tr>\n",
       "      <th>4</th>\n",
       "      <td>Arsenal</td>\n",
       "      <td>38</td>\n",
       "      <td>77</td>\n",
       "      <td>56</td>\n",
       "      <td>202</td>\n",
       "      <td>565</td>\n",
       "      <td>12</td>\n",
       "      <td>58</td>\n",
       "      <td>68</td>\n",
       "      <td>3</td>\n",
       "      <td>399</td>\n",
       "      <td>96</td>\n",
       "      <td>2016</td>\n",
       "      <td>Premier League</td>\n",
       "    </tr>\n",
       "  </tbody>\n",
       "</table>\n",
       "</div>"
      ],
      "text/plain": [
       "            STANDARD  GP  GF   A  SOG    S  HG  KG  YC RC    F OFF SEASON  \\\n",
       "0  Tottenham Hotspur  38  86  59  257  669  10  74  62  0  432  74   2016   \n",
       "1            Chelsea  38  85  57  205  579   9  74  72  0  395  64   2016   \n",
       "2    Manchester City  38  80  52  215  631   6  69  71  4  395  89   2016   \n",
       "3          Liverpool  38  78  56  236  639  11  66  54  0  396  77   2016   \n",
       "4            Arsenal  38  77  56  202  565  12  58  68  3  399  96   2016   \n",
       "\n",
       "           LEAGUE  \n",
       "0  Premier League  \n",
       "1  Premier League  \n",
       "2  Premier League  \n",
       "3  Premier League  \n",
       "4  Premier League  "
      ]
     },
     "execution_count": 5,
     "metadata": {},
     "output_type": "execute_result"
    }
   ],
   "source": [
    "#create empty list for data\n",
    "Data = []\n",
    "\n",
    "#fill Data with values \n",
    "for url_league in url_list:\n",
    "    for url in url_league:\n",
    "        url_rows = opener.open(url)\n",
    "\n",
    "        #parse url into soup\n",
    "        soup = BeautifulSoup(url_rows, \"html.parser\")\n",
    "\n",
    "        #find table\n",
    "        table = soup.find(\"table\", attrs = {'class' : 'wisbb_standardTable'})\n",
    "    \n",
    "        data_rows = table.findAll('tr')[1:]\n",
    "        #find all <tr> tag\n",
    "        for i in range(len(data_rows)):\n",
    "            team_rows = [] #create an emptly list for each team's record\n",
    "\n",
    "\n",
    "        #for each table data element from each table row\n",
    "            for td in data_rows[i].findAll('td'):\n",
    "                textrow = td.getText()\n",
    "\n",
    "                if td == data_rows[i].find('td'):\n",
    "                    td = data_rows[i].findAll('span')[1]\n",
    "                    textrow = td.getText() #set found string to variable \n",
    "                \n",
    "                #extract extra chracters\n",
    "                if '\\n\\n\\n' in textrow:\n",
    "                    textrow = textrow.replace('\\n\\n\\n','')\n",
    "                if '\\n' in textrow:\n",
    "                    textrow = textrow.replace('\\n','')\n",
    "                team_rows.append(textrow)\n",
    "            \n",
    "\n",
    "            #Fill 'SEASON' value   \n",
    "            if '20160' in url:\n",
    "                team_rows.append('2016')\n",
    "            elif '20150' in url:\n",
    "                team_rows.append('2015')\n",
    "            elif '20140' in url:\n",
    "                team_rows.append('2014')\n",
    "            else:\n",
    "                team_rows.append('2013')\n",
    "                \n",
    "            #Fill 'LEAGUE' value\n",
    "            if 'competition=1' in url:\n",
    "                team_rows.append('Premier League')\n",
    "            elif 'competition=2' in url:\n",
    "                team_rows.append('La Liga')\n",
    "            elif 'competition=3' in url:\n",
    "                team_rows.append('Serie A')\n",
    "            else:\n",
    "                team_rows.append('Bundesliga I')\n",
    "   \n",
    "                    \n",
    "        #Append each team matrix\n",
    "            Data.append(team_rows)\n",
    "\n",
    "#put the rows and headers into a dataframe\n",
    "df = pd.DataFrame(Data, columns = table_headers)\n",
    "\n",
    "df.head()\n",
    "\n",
    "\n"
   ]
  },
  {
   "cell_type": "code",
   "execution_count": 6,
   "metadata": {},
   "outputs": [
    {
     "data": {
      "text/plain": [
       "STANDARD    object\n",
       "GP          object\n",
       "GF          object\n",
       "A           object\n",
       "SOG         object\n",
       "S           object\n",
       "HG          object\n",
       "KG          object\n",
       "YC          object\n",
       "RC          object\n",
       "F           object\n",
       "OFF         object\n",
       "SEASON      object\n",
       "LEAGUE      object\n",
       "dtype: object"
      ]
     },
     "execution_count": 6,
     "metadata": {},
     "output_type": "execute_result"
    }
   ],
   "source": [
    "df.dtypes"
   ]
  },
  {
   "cell_type": "code",
   "execution_count": 7,
   "metadata": {},
   "outputs": [
    {
     "data": {
      "text/plain": [
       "STANDARD    object\n",
       "GP            int8\n",
       "GF            int8\n",
       "A             int8\n",
       "SOG          int16\n",
       "S            int16\n",
       "HG            int8\n",
       "KG            int8\n",
       "YC           int16\n",
       "RC            int8\n",
       "F            int16\n",
       "OFF          int16\n",
       "SEASON       int16\n",
       "LEAGUE      object\n",
       "dtype: object"
      ]
     },
     "execution_count": 7,
     "metadata": {},
     "output_type": "execute_result"
    }
   ],
   "source": [
    "#convert records type from object to numeric (integer)\n",
    "df[['GP','GF', \n",
    "     'A','SOG',\n",
    "     'S','HG','KG',\n",
    "     'YC','RC','F','OFF','SEASON']] = df[['GP','GF', \n",
    "     'A','SOG',\n",
    "     'S','HG','KG',\n",
    "     'YC','RC','F','OFF', 'SEASON']].apply(pd.to_numeric, downcast = 'integer')\n",
    "\n",
    "df.dtypes\n",
    "\n",
    "\n",
    "\n"
   ]
  },
  {
   "cell_type": "markdown",
   "metadata": {},
   "source": [
    "## 2. Metrics Calculation \n",
    "\n",
    "Calculate aggergated data for metrics visualization "
   ]
  },
  {
   "cell_type": "code",
   "execution_count": 8,
   "metadata": {
    "collapsed": true
   },
   "outputs": [],
   "source": [
    "#change first column's name to 'TEAM'\n",
    "df.rename(columns = {u'STANDARD' : 'TEAM'}, inplace = True)\n",
    "\n",
    "#group by Team and Season for aggergation \n",
    "dfGrouped = df.groupby(['TEAM','SEASON'])"
   ]
  },
  {
   "cell_type": "code",
   "execution_count": 9,
   "metadata": {},
   "outputs": [
    {
     "data": {
      "text/html": [
       "<div>\n",
       "<style>\n",
       "    .dataframe thead tr:only-child th {\n",
       "        text-align: right;\n",
       "    }\n",
       "\n",
       "    .dataframe thead th {\n",
       "        text-align: left;\n",
       "    }\n",
       "\n",
       "    .dataframe tbody tr th {\n",
       "        vertical-align: top;\n",
       "    }\n",
       "</style>\n",
       "<table border=\"1\" class=\"dataframe\">\n",
       "  <thead>\n",
       "    <tr style=\"text-align: right;\">\n",
       "      <th></th>\n",
       "      <th>TEAM</th>\n",
       "      <th>GP</th>\n",
       "      <th>GF</th>\n",
       "      <th>A</th>\n",
       "      <th>SOG</th>\n",
       "      <th>S</th>\n",
       "      <th>HG</th>\n",
       "      <th>KG</th>\n",
       "      <th>YC</th>\n",
       "      <th>RC</th>\n",
       "      <th>F</th>\n",
       "      <th>OFF</th>\n",
       "      <th>SEASON</th>\n",
       "      <th>LEAGUE</th>\n",
       "      <th>GPG</th>\n",
       "      <th>SOGPG</th>\n",
       "      <th>FPG</th>\n",
       "      <th>RCPG</th>\n",
       "      <th>YCPG</th>\n",
       "    </tr>\n",
       "  </thead>\n",
       "  <tbody>\n",
       "    <tr>\n",
       "      <th>0</th>\n",
       "      <td>Tottenham Hotspur</td>\n",
       "      <td>38</td>\n",
       "      <td>86</td>\n",
       "      <td>59</td>\n",
       "      <td>257</td>\n",
       "      <td>669</td>\n",
       "      <td>10</td>\n",
       "      <td>74</td>\n",
       "      <td>62</td>\n",
       "      <td>0</td>\n",
       "      <td>432</td>\n",
       "      <td>74</td>\n",
       "      <td>2016</td>\n",
       "      <td>Premier League</td>\n",
       "      <td>2.26</td>\n",
       "      <td>6.76</td>\n",
       "      <td>11.37</td>\n",
       "      <td>0.00</td>\n",
       "      <td>1.63</td>\n",
       "    </tr>\n",
       "    <tr>\n",
       "      <th>1</th>\n",
       "      <td>Chelsea</td>\n",
       "      <td>38</td>\n",
       "      <td>85</td>\n",
       "      <td>57</td>\n",
       "      <td>205</td>\n",
       "      <td>579</td>\n",
       "      <td>9</td>\n",
       "      <td>74</td>\n",
       "      <td>72</td>\n",
       "      <td>0</td>\n",
       "      <td>395</td>\n",
       "      <td>64</td>\n",
       "      <td>2016</td>\n",
       "      <td>Premier League</td>\n",
       "      <td>2.24</td>\n",
       "      <td>5.39</td>\n",
       "      <td>10.39</td>\n",
       "      <td>0.00</td>\n",
       "      <td>1.89</td>\n",
       "    </tr>\n",
       "    <tr>\n",
       "      <th>2</th>\n",
       "      <td>Manchester City</td>\n",
       "      <td>38</td>\n",
       "      <td>80</td>\n",
       "      <td>52</td>\n",
       "      <td>215</td>\n",
       "      <td>631</td>\n",
       "      <td>6</td>\n",
       "      <td>69</td>\n",
       "      <td>71</td>\n",
       "      <td>4</td>\n",
       "      <td>395</td>\n",
       "      <td>89</td>\n",
       "      <td>2016</td>\n",
       "      <td>Premier League</td>\n",
       "      <td>2.11</td>\n",
       "      <td>5.66</td>\n",
       "      <td>10.39</td>\n",
       "      <td>0.11</td>\n",
       "      <td>1.87</td>\n",
       "    </tr>\n",
       "    <tr>\n",
       "      <th>3</th>\n",
       "      <td>Liverpool</td>\n",
       "      <td>38</td>\n",
       "      <td>78</td>\n",
       "      <td>56</td>\n",
       "      <td>236</td>\n",
       "      <td>639</td>\n",
       "      <td>11</td>\n",
       "      <td>66</td>\n",
       "      <td>54</td>\n",
       "      <td>0</td>\n",
       "      <td>396</td>\n",
       "      <td>77</td>\n",
       "      <td>2016</td>\n",
       "      <td>Premier League</td>\n",
       "      <td>2.05</td>\n",
       "      <td>6.21</td>\n",
       "      <td>10.42</td>\n",
       "      <td>0.00</td>\n",
       "      <td>1.42</td>\n",
       "    </tr>\n",
       "    <tr>\n",
       "      <th>4</th>\n",
       "      <td>Arsenal</td>\n",
       "      <td>38</td>\n",
       "      <td>77</td>\n",
       "      <td>56</td>\n",
       "      <td>202</td>\n",
       "      <td>565</td>\n",
       "      <td>12</td>\n",
       "      <td>58</td>\n",
       "      <td>68</td>\n",
       "      <td>3</td>\n",
       "      <td>399</td>\n",
       "      <td>96</td>\n",
       "      <td>2016</td>\n",
       "      <td>Premier League</td>\n",
       "      <td>2.03</td>\n",
       "      <td>5.32</td>\n",
       "      <td>10.50</td>\n",
       "      <td>0.08</td>\n",
       "      <td>1.79</td>\n",
       "    </tr>\n",
       "  </tbody>\n",
       "</table>\n",
       "</div>"
      ],
      "text/plain": [
       "                TEAM  GP  GF   A  SOG    S  HG  KG  YC  RC    F  OFF  SEASON  \\\n",
       "0  Tottenham Hotspur  38  86  59  257  669  10  74  62   0  432   74    2016   \n",
       "1            Chelsea  38  85  57  205  579   9  74  72   0  395   64    2016   \n",
       "2    Manchester City  38  80  52  215  631   6  69  71   4  395   89    2016   \n",
       "3          Liverpool  38  78  56  236  639  11  66  54   0  396   77    2016   \n",
       "4            Arsenal  38  77  56  202  565  12  58  68   3  399   96    2016   \n",
       "\n",
       "           LEAGUE   GPG  SOGPG    FPG  RCPG  YCPG  \n",
       "0  Premier League  2.26   6.76  11.37  0.00  1.63  \n",
       "1  Premier League  2.24   5.39  10.39  0.00  1.89  \n",
       "2  Premier League  2.11   5.66  10.39  0.11  1.87  \n",
       "3  Premier League  2.05   6.21  10.42  0.00  1.42  \n",
       "4  Premier League  2.03   5.32  10.50  0.08  1.79  "
      ]
     },
     "execution_count": 9,
     "metadata": {},
     "output_type": "execute_result"
    }
   ],
   "source": [
    "#Add 'Goals Per Game' calculation to each team record\n",
    "df['GPG'] = df[df[\"LEAGUE\"] == \"Bundesliga I\"][\"GF\"]/34\n",
    "df['GPG'][df[\"LEAGUE\"] <> \"Bundesliga I\"] = df[df[\"LEAGUE\"] <> \"Bundesliga I\"][\"GF\"]/38\n",
    "\n",
    "#Add 'Shots on Goal Per Game' calculation to each team record\n",
    "df['SOGPG'] = df[df[\"LEAGUE\"] == \"Bundesliga I\"][\"SOG\"]/34\n",
    "df['SOGPG'][df[\"LEAGUE\"] <> \"Bundesliga I\"] = df[df[\"LEAGUE\"] <> \"Bundesliga I\"][\"SOG\"]/38\n",
    "\n",
    "#Add 'Fouls Per Game' calculation to each team record\n",
    "df['FPG'] = df[df[\"LEAGUE\"] == \"Bundesliga I\"][\"F\"]/34\n",
    "df['FPG'][df[\"LEAGUE\"] <> \"Bundesliga I\"] = df[df[\"LEAGUE\"] <> \"Bundesliga I\"][\"F\"]/38\n",
    "\n",
    "#Add 'Red Cards Per Game' calculation to each team record\n",
    "df['RCPG'] = df[df[\"LEAGUE\"] == \"Bundesliga I\"][\"RC\"]/34\n",
    "df['RCPG'][df[\"LEAGUE\"] <> \"Bundesliga I\"] = df[df[\"LEAGUE\"] <> \"Bundesliga I\"][\"RC\"]/38\n",
    "\n",
    "#Add 'Yellow Cards Per Game' calculation to each team record\n",
    "df['YCPG'] = df[df[\"LEAGUE\"] == \"Bundesliga I\"][\"YC\"]/34\n",
    "df['YCPG'][df[\"LEAGUE\"] <> \"Bundesliga I\"] = df[df[\"LEAGUE\"] <> \"Bundesliga I\"][\"YC\"]/38\n",
    "\n",
    "\n",
    "#Round up calculation by 2 decimal points\n",
    "df = df.round({'GPG': 2, 'SOGPG': 2, 'FPG': 2, 'RCPG': 2, 'YCPG': 2})\n",
    "\n",
    "df.head()"
   ]
  },
  {
   "cell_type": "markdown",
   "metadata": {},
   "source": [
    "## 3.Visualization \n",
    "\n"
   ]
  },
  {
   "cell_type": "code",
   "execution_count": 10,
   "metadata": {},
   "outputs": [
    {
     "data": {
      "image/png": "[encoded data removed]",
      "text/plain": [
       "<matplotlib.figure.Figure at 0xbfea320>"
      ]
     },
     "metadata": {},
     "output_type": "display_data"
    }
   ],
   "source": [
    "##VISUALIZATION\n",
    "import matplotlib.pyplot as plt\n",
    "from itertools import cycle, islice\n",
    "%matplotlib inline\n",
    "\n",
    "#Set colors for each value\n",
    "my_colors = list(islice(cycle(['#d78b8b', '#efb583', '#8aaec6', '#9ac59a']), None, len(df)))\n",
    "\n",
    "#Set aggergration by league \n",
    "dfGrouped = df.groupby(['LEAGUE'])\n",
    " \n",
    "#GPG Calculation \n",
    "Fouls_Viz = dfGrouped['GPG'].mean()\n",
    "\n",
    "BarChart = Fouls_Viz.plot(kind = 'bar', color = my_colors).set_ylabel('Average Goals Per Game')\n"
   ]
  },
  {
   "cell_type": "code",
   "execution_count": 11,
   "metadata": {},
   "outputs": [
    {
     "data": {
      "image/png": "[encoded data removed]",
      "text/plain": [
       "<matplotlib.figure.Figure at 0xa0c3550>"
      ]
     },
     "metadata": {},
     "output_type": "display_data"
    },
    {
     "data": {
      "text/plain": [
       "array([[<matplotlib.axes._subplots.AxesSubplot object at 0x000000000A6C8278>]], dtype=object)"
      ]
     },
     "execution_count": 11,
     "metadata": {},
     "output_type": "execute_result"
    },
    {
     "data": {
      "image/png": "[encoded data removed]",
      "text/plain": [
       "<matplotlib.figure.Figure at 0xc977ba8>"
      ]
     },
     "metadata": {},
     "output_type": "display_data"
    }
   ],
   "source": [
    "#Plot frenquency distribution of FPG by league - broken down by color\n",
    "plt.hist(df[df[\"LEAGUE\"]==\"Premier League\"][\"GPG\"].reset_index(drop=True), alpha=0.6, label=\"Premier League\")\n",
    "plt.hist(df[df[\"LEAGUE\"]==\"La Liga\"][\"GPG\"].reset_index(drop=True), alpha=0.6, label=\"La Liga\")\n",
    "plt.hist(df[df[\"LEAGUE\"]==\"Serie A\"][\"GPG\"].reset_index(drop=True), alpha=0.6, label=\"Serie A\")\n",
    "plt.hist(df[df[\"LEAGUE\"]==\"Bundesliga I\"][\"GPG\"].reset_index(drop=True), alpha=0.6, label=\"Bundesliga I\")\n",
    "plt.legend(bbox_to_anchor=(1.05, 1), loc=2)\n",
    "plt.show()\n",
    "\n",
    "#Normal distribution \n",
    "df.hist('GPG')\n",
    "\n",
    "\n"
   ]
  },
  {
   "cell_type": "code",
   "execution_count": 12,
   "metadata": {
    "scrolled": true
   },
   "outputs": [
    {
     "data": {
      "image/png": "[encoded data removed]",
      "text/plain": [
       "<matplotlib.figure.Figure at 0xa0c3fd0>"
      ]
     },
     "metadata": {},
     "output_type": "display_data"
    }
   ],
   "source": [
    "#SOGPG Calculation \n",
    "Fouls_Viz = dfGrouped['SOGPG'].mean()\n",
    "\n",
    "BarChart = Fouls_Viz.plot(kind = 'bar', color = my_colors).set_ylabel('Average Shots on Goal Per Game')\n"
   ]
  },
  {
   "cell_type": "code",
   "execution_count": 13,
   "metadata": {
    "scrolled": true
   },
   "outputs": [
    {
     "data": {
      "image/png": "[encoded data removed]",
      "text/plain": [
       "<matplotlib.figure.Figure at 0xbd8ea58>"
      ]
     },
     "metadata": {},
     "output_type": "display_data"
    },
    {
     "data": {
      "text/plain": [
       "array([[<matplotlib.axes._subplots.AxesSubplot object at 0x0000000009C18DA0>]], dtype=object)"
      ]
     },
     "execution_count": 13,
     "metadata": {},
     "output_type": "execute_result"
    },
    {
     "data": {
      "image/png": "[encoded data removed]",
      "text/plain": [
       "<matplotlib.figure.Figure at 0xa435588>"
      ]
     },
     "metadata": {},
     "output_type": "display_data"
    }
   ],
   "source": [
    "#Plot frenquency distribution of FPG by league - broken down by color\n",
    "plt.hist(df[df[\"LEAGUE\"]==\"Premier League\"][\"SOGPG\"].reset_index(drop=True), alpha=0.6, label=\"Premier League\")\n",
    "plt.hist(df[df[\"LEAGUE\"]==\"La Liga\"][\"SOGPG\"].reset_index(drop=True), alpha=0.6, label=\"La Liga\")\n",
    "plt.hist(df[df[\"LEAGUE\"]==\"Serie A\"][\"SOGPG\"].reset_index(drop=True), alpha=0.6, label=\"Serie A\")\n",
    "plt.hist(df[df[\"LEAGUE\"]==\"Bundesliga I\"][\"SOGPG\"].reset_index(drop=True), alpha=0.6, label=\"Bundesliga I\")\n",
    "plt.legend(bbox_to_anchor=(1.05, 1), loc=2)\n",
    "plt.show()\n",
    "\n",
    "#Normal distribution \n",
    "df.hist('SOGPG')\n"
   ]
  },
  {
   "cell_type": "code",
   "execution_count": 14,
   "metadata": {},
   "outputs": [
    {
     "data": {
      "image/png": "[encoded data removed]",
      "text/plain": [
       "<matplotlib.figure.Figure at 0xc6dd6d8>"
      ]
     },
     "metadata": {},
     "output_type": "display_data"
    }
   ],
   "source": [
    "#SOGPG Calculation \n",
    "Fouls_Viz = dfGrouped['FPG'].mean()\n",
    "\n",
    "BarChart = Fouls_Viz.plot(kind = 'bar', color = my_colors).set_ylabel('Average Fouls Per Game')\n",
    "\n"
   ]
  },
  {
   "cell_type": "code",
   "execution_count": 15,
   "metadata": {},
   "outputs": [
    {
     "data": {
      "image/png": "[encoded data removed]",
      "text/plain": [
       "<matplotlib.figure.Figure at 0xac35198>"
      ]
     },
     "metadata": {},
     "output_type": "display_data"
    },
    {
     "data": {
      "text/plain": [
       "array([[<matplotlib.axes._subplots.AxesSubplot object at 0x000000000B48C5C0>]], dtype=object)"
      ]
     },
     "execution_count": 15,
     "metadata": {},
     "output_type": "execute_result"
    },
    {
     "data": {
      "image/png": "[encoded data removed]",
      "text/plain": [
       "<matplotlib.figure.Figure at 0xbf86cc0>"
      ]
     },
     "metadata": {},
     "output_type": "display_data"
    }
   ],
   "source": [
    "#Plot frenquency distribution of FPG by league - broken down by color\n",
    "plt.hist(df[df[\"LEAGUE\"]==\"Premier League\"][\"FPG\"].reset_index(drop=True), alpha=0.6, label=\"Premier League\")\n",
    "plt.hist(df[df[\"LEAGUE\"]==\"La Liga\"][\"FPG\"].reset_index(drop=True), alpha=0.6, label=\"La Liga\")\n",
    "plt.hist(df[df[\"LEAGUE\"]==\"Serie A\"][\"FPG\"].reset_index(drop=True), alpha=0.6, label=\"Serie A\")\n",
    "plt.hist(df[df[\"LEAGUE\"]==\"Bundesliga I\"][\"FPG\"].reset_index(drop=True), alpha=0.6, label=\"Bundesliga I\")\n",
    "plt.legend(bbox_to_anchor=(1.05, 1), loc=2)\n",
    "plt.show()\n",
    "\n",
    "#Normal distribution \n",
    "df.hist('FPG')\n",
    "\n"
   ]
  }
 ],
 "metadata": {
  "kernelspec": {
   "display_name": "Python 2",
   "language": "python",
   "name": "python2"
  },
  "language_info": {
   "codemirror_mode": {
    "name": "ipython",
    "version": 2
   },
   "file_extension": ".py",
   "mimetype": "text/x-python",
   "name": "python",
   "nbconvert_exporter": "python",
   "pygments_lexer": "ipython2",
   "version": "2.7.13"
  }
 },
 "nbformat": 4,
 "nbformat_minor": 2
}
